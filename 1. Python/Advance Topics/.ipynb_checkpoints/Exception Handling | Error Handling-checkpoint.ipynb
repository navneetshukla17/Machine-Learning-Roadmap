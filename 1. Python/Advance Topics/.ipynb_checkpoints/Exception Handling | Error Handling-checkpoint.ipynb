{
 "cells": [
  {
   "cell_type": "markdown",
   "id": "171d17bf",
   "metadata": {},
   "source": [
    "### #Example: 1"
   ]
  },
  {
   "cell_type": "code",
   "execution_count": 8,
   "id": "d80731ae",
   "metadata": {},
   "outputs": [
    {
     "name": "stdout",
     "output_type": "stream",
     "text": [
      " Sorry file does not exist!\n"
     ]
    }
   ],
   "source": [
    "try:\n",
    "    file = open('testfile.txt')\n",
    "except Exception:\n",
    "    print(f\" Sorry file does not exist!\")"
   ]
  },
  {
   "cell_type": "markdown",
   "id": "f44108e3",
   "metadata": {},
   "source": [
    "### #Example: 2"
   ]
  },
  {
   "cell_type": "code",
   "execution_count": 9,
   "id": "a6eed2ff",
   "metadata": {},
   "outputs": [
    {
     "name": "stdout",
     "output_type": "stream",
     "text": [
      "Sorry file does not exist!\n"
     ]
    }
   ],
   "source": [
    "try:\n",
    "    file = open('test_file.txt')\n",
    "    var = bad_var # making bad assigment intentionally.\n",
    "except Exception:\n",
    "    print('Sorry file does not exist!')"
   ]
  },
  {
   "cell_type": "markdown",
   "id": "18c01098",
   "metadata": {},
   "source": [
    "### #Example: 3"
   ]
  },
  {
   "cell_type": "code",
   "execution_count": 15,
   "id": "55b4252f",
   "metadata": {},
   "outputs": [
    {
     "name": "stdout",
     "output_type": "stream",
     "text": [
      "Something went wrong!\n"
     ]
    }
   ],
   "source": [
    "try:\n",
    "    file = open('test_file.txt')\n",
    "    var = bad_var # now this time it will catch this exception.\n",
    "except FileNotFoundError:\n",
    "    print('File not found !')\n",
    "except Exception:\n",
    "    print('Something went wrong!')"
   ]
  },
  {
   "cell_type": "markdown",
   "id": "1564f694",
   "metadata": {},
   "source": [
    "### #Example: 4"
   ]
  },
  {
   "cell_type": "code",
   "execution_count": 21,
   "id": "287690d9",
   "metadata": {},
   "outputs": [
    {
     "name": "stdout",
     "output_type": "stream",
     "text": [
      "name 'bad_var' is not defined\n"
     ]
    }
   ],
   "source": [
    "try:\n",
    "    file = open('test_file.txt')\n",
    "    var = bad_var\n",
    "except FileNotFoundError as e:\n",
    "    print(e)\n",
    "except Exception as e:\n",
    "    print(e)"
   ]
  },
  {
   "cell_type": "markdown",
   "id": "626c5e5f",
   "metadata": {},
   "source": [
    "### #Example: 5"
   ]
  },
  {
   "cell_type": "code",
   "execution_count": 25,
   "id": "148015cb",
   "metadata": {},
   "outputs": [
    {
     "name": "stdout",
     "output_type": "stream",
     "text": [
      "[Errno 2] No such file or directory: 'testfile.txt'\n"
     ]
    }
   ],
   "source": [
    "try:\n",
    "    file = open('testfile.txt')\n",
    "except FileNotFoundError as e:\n",
    "    print(e)\n",
    "except Exception as e:\n",
    "    print(e)"
   ]
  },
  {
   "cell_type": "markdown",
   "id": "18c51941",
   "metadata": {},
   "source": [
    "### #Example: 6"
   ]
  },
  {
   "cell_type": "code",
   "execution_count": 28,
   "id": "02ecf712",
   "metadata": {},
   "outputs": [
    {
     "name": "stdout",
     "output_type": "stream",
     "text": [
      "Test File Contents!\n"
     ]
    }
   ],
   "source": [
    "try:\n",
    "    file = open('test_file.txt')\n",
    "except FileNotFoundError as e:\n",
    "    print(e)\n",
    "except Exception as e:\n",
    "    print(e)\n",
    "else:\n",
    "    print(file.read())\n",
    "    file.close()"
   ]
  },
  {
   "cell_type": "markdown",
   "id": "46cbb9d3",
   "metadata": {},
   "source": [
    "### #Example: 7"
   ]
  },
  {
   "cell_type": "code",
   "execution_count": 36,
   "id": "d24f34c0",
   "metadata": {},
   "outputs": [
    {
     "name": "stdout",
     "output_type": "stream",
     "text": [
      "This file is not currupt.\n",
      "Code executed without any errors\n",
      "Executing finally...\n"
     ]
    }
   ],
   "source": [
    "try:\n",
    "    file = open('test_file.txt')\n",
    "    if file.name == 'currupt_file.txt':\n",
    "        raise ValueError('This file is currupt!')\n",
    "    else:\n",
    "        print('This file is not currupt.')\n",
    "except FileNotFoundError as e:\n",
    "    print(e)\n",
    "except Exception as e:\n",
    "    print(e)\n",
    "else:\n",
    "    print('Code executed without any errors')\n",
    "finally:\n",
    "    print('Executing finally...')"
   ]
  },
  {
   "cell_type": "code",
   "execution_count": 49,
   "id": "8db5e28e",
   "metadata": {},
   "outputs": [
    {
     "name": "stdout",
     "output_type": "stream",
     "text": [
      "Enter the value of numerator: 89.1\n",
      "invalid literal for int() with base 10: '89.1'\n",
      "Anyting accept 'int' is not allowed\n"
     ]
    }
   ],
   "source": [
    "try:\n",
    "    num = int(input('Enter the value of numerator: '))\n",
    "    deno = int(input('Enter the value of denominator: '))\n",
    "    result = num / deno\n",
    "except ZeroDivisionError as e:\n",
    "    print(e)\n",
    "    print(\"Can't divide by zero!\")\n",
    "except ValueError as e:\n",
    "    print(e)\n",
    "    print(\"Anyting accept 'int' is not allowed\")\n",
    "except Exception as e:\n",
    "    print(e)\n",
    "    print('Something went wrong!')\n",
    "else:\n",
    "    print(f'Answer: {result}')"
   ]
  },
  {
   "cell_type": "code",
   "execution_count": null,
   "id": "c6614991",
   "metadata": {},
   "outputs": [],
   "source": []
  }
 ],
 "metadata": {
  "kernelspec": {
   "display_name": "Python 3 (ipykernel)",
   "language": "python",
   "name": "python3"
  },
  "language_info": {
   "codemirror_mode": {
    "name": "ipython",
    "version": 3
   },
   "file_extension": ".py",
   "mimetype": "text/x-python",
   "name": "python",
   "nbconvert_exporter": "python",
   "pygments_lexer": "ipython3",
   "version": "3.10.12"
  }
 },
 "nbformat": 4,
 "nbformat_minor": 5
}
