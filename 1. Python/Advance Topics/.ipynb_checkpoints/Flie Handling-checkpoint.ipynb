{
 "cells": [
  {
   "cell_type": "code",
   "execution_count": 8,
   "id": "771c51b0",
   "metadata": {},
   "outputs": [
    {
     "name": "stdout",
     "output_type": "stream",
     "text": [
      "Oops! overwritten.\n"
     ]
    }
   ],
   "source": [
    "import os\n",
    "\n",
    "file = open('demofile.txt') \n",
    "print(file.read()) # read every content of the file.\n",
    "file.close()"
   ]
  },
  {
   "cell_type": "code",
   "execution_count": 9,
   "id": "344117c5",
   "metadata": {},
   "outputs": [
    {
     "name": "stdout",
     "output_type": "stream",
     "text": [
      "Oops!\n"
     ]
    }
   ],
   "source": [
    "file = open('demofile.txt')\n",
    "print(file.read(5)) # only read first 5 character.\n",
    "file.close()"
   ]
  },
  {
   "cell_type": "code",
   "execution_count": 10,
   "id": "237ccf02",
   "metadata": {},
   "outputs": [
    {
     "name": "stdout",
     "output_type": "stream",
     "text": [
      "Oops! overwritten.\n",
      "\n",
      "\n",
      "\n"
     ]
    }
   ],
   "source": [
    "file = open('demofile.txt')\n",
    "print(file.readline()) # line by line output, read first line\n",
    "print(file.readline()) # read second line\n",
    "print(file.readline()) # read third line\n",
    "print(file.readline()) # read fourth line\n",
    "file.close()"
   ]
  },
  {
   "cell_type": "code",
   "execution_count": 11,
   "id": "19b406cf",
   "metadata": {},
   "outputs": [
    {
     "name": "stdout",
     "output_type": "stream",
     "text": [
      "Oops\n"
     ]
    }
   ],
   "source": [
    "file = open('demofile.txt')\n",
    "print(file.readline(4)) # reads specific line\n",
    "file.close()"
   ]
  },
  {
   "cell_type": "code",
   "execution_count": 12,
   "id": "6bf8358d",
   "metadata": {},
   "outputs": [
    {
     "name": "stdout",
     "output_type": "stream",
     "text": [
      "['Oops! overwritten.']\n"
     ]
    }
   ],
   "source": [
    "file = open('demofile.txt')\n",
    "print(file.readlines())\n",
    "file.close()"
   ]
  },
  {
   "cell_type": "code",
   "execution_count": 13,
   "id": "03098db4",
   "metadata": {},
   "outputs": [
    {
     "name": "stdout",
     "output_type": "stream",
     "text": [
      "60\n"
     ]
    }
   ],
   "source": [
    "file = open('demofile.txt', 'w')\n",
    "print(file.write('This is sample text from write mode in Python file handling.'))\n",
    "file.close()"
   ]
  },
  {
   "cell_type": "code",
   "execution_count": 14,
   "id": "9e3d54b2",
   "metadata": {},
   "outputs": [
    {
     "name": "stdout",
     "output_type": "stream",
     "text": [
      "This is sample text from write mode in Python file handling.\n"
     ]
    }
   ],
   "source": [
    "file = open('demofile.txt')\n",
    "print(file.read())\n",
    "file.close()"
   ]
  },
  {
   "cell_type": "code",
   "execution_count": 15,
   "id": "478826c1",
   "metadata": {},
   "outputs": [
    {
     "name": "stdout",
     "output_type": "stream",
     "text": [
      "This is sample text from write mode in Python file handling.\n"
     ]
    }
   ],
   "source": [
    "file = open('demofile.txt')\n",
    "print(file.readline())\n",
    "file.close()"
   ]
  },
  {
   "cell_type": "code",
   "execution_count": 16,
   "id": "49756bf4",
   "metadata": {},
   "outputs": [
    {
     "name": "stdout",
     "output_type": "stream",
     "text": [
      "['This is sample text from write mode in Python file handling.']\n"
     ]
    }
   ],
   "source": [
    "file = open('demofile.txt')\n",
    "print(file.readlines())\n",
    "file.close()"
   ]
  },
  {
   "cell_type": "markdown",
   "id": "176b6f06",
   "metadata": {},
   "source": [
    "### #Using for loop to read files."
   ]
  },
  {
   "cell_type": "code",
   "execution_count": 17,
   "id": "62f6e1f2",
   "metadata": {},
   "outputs": [
    {
     "name": "stdout",
     "output_type": "stream",
     "text": [
      "[]\n"
     ]
    }
   ],
   "source": [
    "file = open('demofile.txt')\n",
    "for i in file:\n",
    "    print(file.readlines())"
   ]
  },
  {
   "cell_type": "markdown",
   "id": "705e4ecd",
   "metadata": {},
   "source": [
    "### #Write(): 'w'"
   ]
  },
  {
   "cell_type": "code",
   "execution_count": 18,
   "id": "bb049cd6",
   "metadata": {},
   "outputs": [],
   "source": [
    "file = open('demofile.txt', 'w') # 'w' will overwrite the entire file.\n",
    "file.write('I am overwritting the contents of the file.')\n",
    "file.close()"
   ]
  },
  {
   "cell_type": "code",
   "execution_count": 19,
   "id": "aa57f533",
   "metadata": {},
   "outputs": [],
   "source": [
    "file = open('demofile.txt', 'a') # 'a' will append in the end of the file.\n",
    "file.write('writting the file using append mode.')\n",
    "file.close()"
   ]
  },
  {
   "cell_type": "code",
   "execution_count": 20,
   "id": "cd25592e",
   "metadata": {},
   "outputs": [
    {
     "name": "stdout",
     "output_type": "stream",
     "text": [
      "I am overwritting the contents of the file.writting the file using append mode.\n"
     ]
    }
   ],
   "source": [
    "file = open('demofile.txt')\n",
    "print(file.readline())\n",
    "file.close()"
   ]
  },
  {
   "cell_type": "code",
   "execution_count": 21,
   "id": "9fa37779",
   "metadata": {},
   "outputs": [],
   "source": [
    "file = open('demofile.txt', 'w')\n",
    "file.write('This is a test')\n",
    "file.write(' To add more lines.')\n",
    "\n",
    "file.close()"
   ]
  },
  {
   "cell_type": "code",
   "execution_count": 22,
   "id": "29073fcc",
   "metadata": {},
   "outputs": [],
   "source": [
    "file = open('demofile.txt', 'w')\n",
    "file.write('Oops! overwritten.')\n",
    "\n",
    "file.close()"
   ]
  },
  {
   "cell_type": "markdown",
   "id": "3efe4694",
   "metadata": {},
   "source": [
    "### #Creating new file: 'x'"
   ]
  },
  {
   "cell_type": "code",
   "execution_count": 23,
   "id": "904f0d49",
   "metadata": {},
   "outputs": [],
   "source": [
    "file = open('newfile.txt', 'x')\n",
    "file.write('This is a new file.')\n",
    "file.close()"
   ]
  },
  {
   "cell_type": "code",
   "execution_count": 24,
   "id": "613b7c0b",
   "metadata": {},
   "outputs": [
    {
     "ename": "FileExistsError",
     "evalue": "[Errno 17] File exists: 'testfile.txt'",
     "output_type": "error",
     "traceback": [
      "\u001b[0;31m---------------------------------------------------------------------------\u001b[0m",
      "\u001b[0;31mFileExistsError\u001b[0m                           Traceback (most recent call last)",
      "Cell \u001b[0;32mIn[24], line 1\u001b[0m\n\u001b[0;32m----> 1\u001b[0m file \u001b[38;5;241m=\u001b[39m \u001b[38;5;28;43mopen\u001b[39;49m\u001b[43m(\u001b[49m\u001b[38;5;124;43m'\u001b[39;49m\u001b[38;5;124;43mtestfile.txt\u001b[39;49m\u001b[38;5;124;43m'\u001b[39;49m\u001b[43m,\u001b[49m\u001b[43m \u001b[49m\u001b[38;5;124;43m'\u001b[39;49m\u001b[38;5;124;43mx\u001b[39;49m\u001b[38;5;124;43m'\u001b[39;49m\u001b[43m)\u001b[49m\n\u001b[1;32m      2\u001b[0m file\u001b[38;5;241m.\u001b[39mclose()\n",
      "File \u001b[0;32m~/.local/lib/python3.10/site-packages/IPython/core/interactiveshell.py:284\u001b[0m, in \u001b[0;36m_modified_open\u001b[0;34m(file, *args, **kwargs)\u001b[0m\n\u001b[1;32m    277\u001b[0m \u001b[38;5;28;01mif\u001b[39;00m file \u001b[38;5;129;01min\u001b[39;00m {\u001b[38;5;241m0\u001b[39m, \u001b[38;5;241m1\u001b[39m, \u001b[38;5;241m2\u001b[39m}:\n\u001b[1;32m    278\u001b[0m     \u001b[38;5;28;01mraise\u001b[39;00m \u001b[38;5;167;01mValueError\u001b[39;00m(\n\u001b[1;32m    279\u001b[0m         \u001b[38;5;124mf\u001b[39m\u001b[38;5;124m\"\u001b[39m\u001b[38;5;124mIPython won\u001b[39m\u001b[38;5;124m'\u001b[39m\u001b[38;5;124mt let you open fd=\u001b[39m\u001b[38;5;132;01m{\u001b[39;00mfile\u001b[38;5;132;01m}\u001b[39;00m\u001b[38;5;124m by default \u001b[39m\u001b[38;5;124m\"\u001b[39m\n\u001b[1;32m    280\u001b[0m         \u001b[38;5;124m\"\u001b[39m\u001b[38;5;124mas it is likely to crash IPython. If you know what you are doing, \u001b[39m\u001b[38;5;124m\"\u001b[39m\n\u001b[1;32m    281\u001b[0m         \u001b[38;5;124m\"\u001b[39m\u001b[38;5;124myou can use builtins\u001b[39m\u001b[38;5;124m'\u001b[39m\u001b[38;5;124m open.\u001b[39m\u001b[38;5;124m\"\u001b[39m\n\u001b[1;32m    282\u001b[0m     )\n\u001b[0;32m--> 284\u001b[0m \u001b[38;5;28;01mreturn\u001b[39;00m \u001b[43mio_open\u001b[49m\u001b[43m(\u001b[49m\u001b[43mfile\u001b[49m\u001b[43m,\u001b[49m\u001b[43m \u001b[49m\u001b[38;5;241;43m*\u001b[39;49m\u001b[43margs\u001b[49m\u001b[43m,\u001b[49m\u001b[43m \u001b[49m\u001b[38;5;241;43m*\u001b[39;49m\u001b[38;5;241;43m*\u001b[39;49m\u001b[43mkwargs\u001b[49m\u001b[43m)\u001b[49m\n",
      "\u001b[0;31mFileExistsError\u001b[0m: [Errno 17] File exists: 'testfile.txt'"
     ]
    }
   ],
   "source": [
    "file = open('testfile.txt', 'x')\n",
    "file.close()"
   ]
  },
  {
   "cell_type": "code",
   "execution_count": null,
   "id": "ce53ec36",
   "metadata": {},
   "outputs": [],
   "source": [
    "file = open('hello_world.py', 'x')\n",
    "file.write(\"print('Hello world')\")\n",
    "file.close()"
   ]
  },
  {
   "cell_type": "markdown",
   "id": "13007d6a",
   "metadata": {},
   "source": [
    "### #Deleting files: os.remove()"
   ]
  },
  {
   "cell_type": "code",
   "execution_count": 25,
   "id": "013eb511",
   "metadata": {},
   "outputs": [
    {
     "name": "stdout",
     "output_type": "stream",
     "text": [
      "'newfile.txt' successfuly removed !\n"
     ]
    }
   ],
   "source": [
    "import os\n",
    "file = 'newfile.txt'\n",
    "\n",
    "# check if the file exists and delete if exists.\n",
    "if os.path.exists(file):\n",
    "    os.remove(file)\n",
    "    print(f\"'{file}' successfuly removed !\")\n",
    "else:\n",
    "    print(f\"'{file}' does not exists!\")"
   ]
  },
  {
   "cell_type": "code",
   "execution_count": 29,
   "id": "ae1eaed2",
   "metadata": {},
   "outputs": [
    {
     "name": "stdout",
     "output_type": "stream",
     "text": [
      "'hello_world.py' successfully removed.\n"
     ]
    }
   ],
   "source": [
    "import os\n",
    "file = 'hello_world.py'\n",
    "\n",
    "if os.path.exists(file):\n",
    "    os.remove(file)\n",
    "    print(f\"'{file}' successfully removed.\")\n",
    "else:\n",
    "    print(f\"'{file}' does not exists !\")"
   ]
  }
 ],
 "metadata": {
  "kernelspec": {
   "display_name": "Python 3 (ipykernel)",
   "language": "python",
   "name": "python3"
  },
  "language_info": {
   "codemirror_mode": {
    "name": "ipython",
    "version": 3
   },
   "file_extension": ".py",
   "mimetype": "text/x-python",
   "name": "python",
   "nbconvert_exporter": "python",
   "pygments_lexer": "ipython3",
   "version": "3.10.12"
  }
 },
 "nbformat": 4,
 "nbformat_minor": 5
}
