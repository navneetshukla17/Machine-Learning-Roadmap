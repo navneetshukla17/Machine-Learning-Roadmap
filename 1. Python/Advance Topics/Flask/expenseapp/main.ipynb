{
 "cells": [
  {
   "cell_type": "code",
   "execution_count": 5,
   "id": "342a7a3f",
   "metadata": {},
   "outputs": [
    {
     "name": "stdout",
     "output_type": "stream",
     "text": [
      " * Serving Flask app '__main__'\n",
      " * Debug mode: on\n"
     ]
    },
    {
     "name": "stderr",
     "output_type": "stream",
     "text": [
      "WARNING: This is a development server. Do not use it in a production deployment. Use a production WSGI server instead.\n",
      " * Running on http://127.0.0.1:5000\n",
      "Press CTRL+C to quit\n",
      " * Restarting with watchdog (inotify)\n",
      "Traceback (most recent call last):\n",
      "  File \"/usr/lib/python3.10/runpy.py\", line 196, in _run_module_as_main\n",
      "    return _run_code(code, main_globals, None,\n",
      "  File \"/usr/lib/python3.10/runpy.py\", line 86, in _run_code\n",
      "    exec(code, run_globals)\n",
      "  File \"/home/tusharshukla/.local/lib/python3.10/site-packages/ipykernel_launcher.py\", line 17, in <module>\n",
      "    app.launch_new_instance()\n",
      "  File \"/home/tusharshukla/.local/lib/python3.10/site-packages/traitlets/config/application.py\", line 1042, in launch_instance\n",
      "    app.initialize(argv)\n",
      "  File \"/home/tusharshukla/.local/lib/python3.10/site-packages/traitlets/config/application.py\", line 113, in inner\n",
      "    return method(app, *args, **kwargs)\n",
      "  File \"/home/tusharshukla/.local/lib/python3.10/site-packages/ipykernel/kernelapp.py\", line 678, in initialize\n",
      "    self.init_sockets()\n",
      "  File \"/home/tusharshukla/.local/lib/python3.10/site-packages/ipykernel/kernelapp.py\", line 317, in init_sockets\n",
      "    self.shell_port = self._bind_socket(self.shell_socket, self.shell_port)\n",
      "  File \"/home/tusharshukla/.local/lib/python3.10/site-packages/ipykernel/kernelapp.py\", line 252, in _bind_socket\n",
      "    return self._try_bind_socket(s, port)\n",
      "  File \"/home/tusharshukla/.local/lib/python3.10/site-packages/ipykernel/kernelapp.py\", line 228, in _try_bind_socket\n",
      "    s.bind(\"tcp://%s:%i\" % (self.ip, port))\n",
      "  File \"/home/tusharshukla/.local/lib/python3.10/site-packages/zmq/sugar/socket.py\", line 301, in bind\n",
      "    super().bind(addr)\n",
      "  File \"zmq/backend/cython/socket.pyx\", line 564, in zmq.backend.cython.socket.Socket.bind\n",
      "  File \"zmq/backend/cython/checkrc.pxd\", line 28, in zmq.backend.cython.checkrc._check_rc\n",
      "zmq.error.ZMQError: Address already in use\n"
     ]
    },
    {
     "ename": "SystemExit",
     "evalue": "1",
     "output_type": "error",
     "traceback": [
      "An exception has occurred, use %tb to see the full traceback.\n",
      "\u001b[0;31mSystemExit\u001b[0m\u001b[0;31m:\u001b[0m 1\n"
     ]
    },
    {
     "name": "stderr",
     "output_type": "stream",
     "text": [
      "/home/tusharshukla/.local/lib/python3.10/site-packages/IPython/core/interactiveshell.py:3516: UserWarning: To exit: use 'exit', 'quit', or Ctrl-D.\n",
      "  warn(\"To exit: use 'exit', 'quit', or Ctrl-D.\", stacklevel=1)\n"
     ]
    }
   ],
   "source": [
    "from flask import Flask, render_template, request\n",
    "import mysql.connector\n",
    "\n",
    "app = Flask(__name__)\n",
    "\n",
    "try:\n",
    "    conn = mysql.connector.connect(host='sql6.freesqldatabase.com', user='sql6703359', password='Jt3nxU1K7T', database='sql6703359')\n",
    "except Exception as e:\n",
    "    print(e)\n",
    "    print('Something went wrong!')\n",
    "else:\n",
    "    cursor = conn.cursor()\n",
    "    \n",
    "\n",
    "@app.route('/')\n",
    "def login():\n",
    "    return render_template('login.html')\n",
    "\n",
    "@app.route('/register')\n",
    "def register():\n",
    "    return render_template('register.html')\n",
    "\n",
    "@app.route('/home')\n",
    "def home():\n",
    "    return render_template('/home.html')\n",
    "\n",
    "@app.route('/login_validation', methods=['POST'])\n",
    "def login_validation():\n",
    "    '''\n",
    "    This function matches data received with the data inside the database\n",
    "    '''\n",
    "    # store email and password received from user\n",
    "    email = request.form.get('email')\n",
    "    password = request.form.get('password')\n",
    "    \n",
    "    # match received data from existing data in the database\n",
    "    cursor.execute(\"\"\"SELECT * FROM `users` WHERE `email` LIKE '{}' AND password LIKE '{}'\"\"\".format(email, password))\n",
    "    \n",
    "    fetched_data = cursor.fetchall()\n",
    "    \n",
    "    if len(fetched_data) > 0:\n",
    "        return render_template('home.html')\n",
    "    else:\n",
    "        return render_template('login.html')\n",
    "    \n",
    "@app.route('/add_user', methods=['POST'])\n",
    "def add_user():\n",
    "    '''\n",
    "    This function adds new user data inside the database\n",
    "    '''\n",
    "    name = request.form.get('uname')\n",
    "    email = request.form.get('uemail')\n",
    "    password = request.form.get('upassword')\n",
    "    \n",
    "    cursor.execute(\"\"\"INSERT INTO `users` (`user_id`, `name`, `email`, `password`) VALUES (NULL, '{}', '{}', '{}')\"\"\".format(name, email, password))\n",
    "    \n",
    "    conn.commit()\n",
    "    \n",
    "    return 'New user added to the database.'\n",
    "\n",
    "\n",
    "\n",
    "if __name__ == '__main__':\n",
    "    app.run(debug=True)"
   ]
  },
  {
   "cell_type": "code",
   "execution_count": null,
   "id": "71edf9cf",
   "metadata": {},
   "outputs": [],
   "source": []
  }
 ],
 "metadata": {
  "kernelspec": {
   "display_name": "Python 3 (ipykernel)",
   "language": "python",
   "name": "python3"
  },
  "language_info": {
   "codemirror_mode": {
    "name": "ipython",
    "version": 3
   },
   "file_extension": ".py",
   "mimetype": "text/x-python",
   "name": "python",
   "nbconvert_exporter": "python",
   "pygments_lexer": "ipython3",
   "version": "3.10.12"
  }
 },
 "nbformat": 4,
 "nbformat_minor": 5
}
