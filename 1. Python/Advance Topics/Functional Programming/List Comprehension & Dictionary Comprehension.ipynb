{
 "cells": [
  {
   "cell_type": "markdown",
   "id": "d97ea292",
   "metadata": {},
   "source": [
    "### #List Comprehension"
   ]
  },
  {
   "cell_type": "code",
   "execution_count": 26,
   "id": "3986c1f3",
   "metadata": {},
   "outputs": [
    {
     "name": "stdout",
     "output_type": "stream",
     "text": [
      "[2, 4, 6, 8, 10, 12, 14]\n"
     ]
    }
   ],
   "source": [
    "L = [1, 2, 3, 4, 5, 6, 7]\n",
    "\n",
    "L1 = [i*2 for i in L]\n",
    "print(L1)"
   ]
  },
  {
   "cell_type": "code",
   "execution_count": 27,
   "id": "0cf73472",
   "metadata": {},
   "outputs": [
    {
     "name": "stdout",
     "output_type": "stream",
     "text": [
      "[1, 4, 9, 16, 25, 36, 49, 64, 81, 100]\n"
     ]
    }
   ],
   "source": [
    "L2 =  [x**2 for x in range(1, 11)]\n",
    "print(L2)"
   ]
  },
  {
   "cell_type": "code",
   "execution_count": 28,
   "id": "a940c885",
   "metadata": {},
   "outputs": [
    {
     "data": {
      "text/plain": [
       "['Apple']"
      ]
     },
     "execution_count": 28,
     "metadata": {},
     "output_type": "execute_result"
    }
   ],
   "source": [
    "fruits = ['Apple', 'Orange', 'Banana', 'Grapes']\n",
    "[fruit for fruit in fruits if fruit[0] == 'A']"
   ]
  },
  {
   "cell_type": "markdown",
   "id": "8dd87c24",
   "metadata": {},
   "source": [
    "### #Dictionary Comprehension"
   ]
  },
  {
   "cell_type": "code",
   "execution_count": 32,
   "id": "98aa72e4",
   "metadata": {},
   "outputs": [
    {
     "data": {
      "text/plain": [
       "{0, 1, 4, 9, 16, 25, 36, 49, 64, 81}"
      ]
     },
     "execution_count": 32,
     "metadata": {},
     "output_type": "execute_result"
    }
   ],
   "source": [
    "{i**2 for i in range(10)}"
   ]
  },
  {
   "cell_type": "code",
   "execution_count": 41,
   "id": "59be32e3",
   "metadata": {},
   "outputs": [],
   "source": [
    "Data = {\n",
    "        'name':'Nanveet',\n",
    "        'surname':'Shukla',\n",
    "        'gender':'Male',\n",
    "        'age':22\n",
    "}"
   ]
  },
  {
   "cell_type": "code",
   "execution_count": 47,
   "id": "da15d5c7",
   "metadata": {},
   "outputs": [
    {
     "data": {
      "text/plain": [
       "{'name': 'Nanveet', 'surname': 'Shukla', 'gender': 'Male'}"
      ]
     },
     "execution_count": 47,
     "metadata": {},
     "output_type": "execute_result"
    }
   ],
   "source": [
    "# display keys which has lenght > 4 using dictionary comprehension.\n",
    "{key:value for key, value in Data.items() if len(key)>3}"
   ]
  },
  {
   "cell_type": "code",
   "execution_count": 54,
   "id": "e9c8e6f3",
   "metadata": {},
   "outputs": [
    {
     "data": {
      "text/plain": [
       "{1: 1, 2: 4, 3: 9, 4: 16, 5: 25, 6: 36, 7: 49}"
      ]
     },
     "execution_count": 54,
     "metadata": {},
     "output_type": "execute_result"
    }
   ],
   "source": [
    "# create a dictionary with value is sqaure of key\n",
    "{i:i**2 for i in L}"
   ]
  }
 ],
 "metadata": {
  "kernelspec": {
   "display_name": "Python 3 (ipykernel)",
   "language": "python",
   "name": "python3"
  },
  "language_info": {
   "codemirror_mode": {
    "name": "ipython",
    "version": 3
   },
   "file_extension": ".py",
   "mimetype": "text/x-python",
   "name": "python",
   "nbconvert_exporter": "python",
   "pygments_lexer": "ipython3",
   "version": "3.10.12"
  }
 },
 "nbformat": 4,
 "nbformat_minor": 5
}
