{
 "cells": [
  {
   "cell_type": "code",
   "execution_count": 1,
   "id": "2033e569",
   "metadata": {},
   "outputs": [
    {
     "data": {
      "text/plain": [
       "<map at 0x7bc6d8073ac0>"
      ]
     },
     "execution_count": 1,
     "metadata": {},
     "output_type": "execute_result"
    }
   ],
   "source": [
    "L = [1, 2, 3, 4, 5, 6, 7]\n",
    "\n",
    "map(lambda x: x*2, L) # By default map returns map object with it's memory location.\n",
    "# To view actual output pass the map function inside a list."
   ]
  },
  {
   "cell_type": "markdown",
   "id": "21cec429",
   "metadata": {},
   "source": [
    "### #Method- 1"
   ]
  },
  {
   "cell_type": "code",
   "execution_count": 2,
   "id": "e668339d",
   "metadata": {},
   "outputs": [
    {
     "data": {
      "text/plain": [
       "[2, 4, 6, 8, 10, 12, 14]"
      ]
     },
     "execution_count": 2,
     "metadata": {},
     "output_type": "execute_result"
    }
   ],
   "source": [
    "list(map(lambda x: x*2, L))"
   ]
  },
  {
   "cell_type": "markdown",
   "id": "fe965ad2",
   "metadata": {},
   "source": [
    "### #Method- 2"
   ]
  },
  {
   "cell_type": "code",
   "execution_count": 3,
   "id": "2ff3fa57",
   "metadata": {},
   "outputs": [
    {
     "data": {
      "text/plain": [
       "[2, 4, 6, 8, 10, 12, 14]"
      ]
     },
     "execution_count": 3,
     "metadata": {},
     "output_type": "execute_result"
    }
   ],
   "source": [
    "double = lambda x: x*2\n",
    "list(map(double, L))"
   ]
  },
  {
   "cell_type": "code",
   "execution_count": 10,
   "id": "cd1397fe",
   "metadata": {},
   "outputs": [],
   "source": [
    "cube = lambda x: x**3\n",
    "square = lambda x: x**2"
   ]
  },
  {
   "cell_type": "code",
   "execution_count": 12,
   "id": "b8c201ee",
   "metadata": {},
   "outputs": [
    {
     "data": {
      "text/plain": [
       "[1, 8, 27, 64, 125, 216, 343]"
      ]
     },
     "execution_count": 12,
     "metadata": {},
     "output_type": "execute_result"
    }
   ],
   "source": [
    "list(map(cube, L))"
   ]
  },
  {
   "cell_type": "code",
   "execution_count": 23,
   "id": "fb9313ae",
   "metadata": {},
   "outputs": [],
   "source": [
    "students = [\n",
    "    {\n",
    "        'name':'Jacob Martin',\n",
    "        'father name':'Ros Martin',\n",
    "        'Address':'123 Hill Street'\n",
    "    },\n",
    "    {\n",
    "        'name':'Angela Stevens',\n",
    "        'father name':'Robert Stevens',\n",
    "        'Address':'3 Upper Street London'\n",
    "    },\n",
    "    {\n",
    "        'name':'Ricky Smart',\n",
    "        'father name':'William Smart',\n",
    "        'Address':'Unknown'\n",
    "    }\n",
    "]"
   ]
  },
  {
   "cell_type": "code",
   "execution_count": 24,
   "id": "c49a148d",
   "metadata": {},
   "outputs": [
    {
     "data": {
      "text/plain": [
       "['Jacob Martin', 'Angela Stevens', 'Ricky Smart']"
      ]
     },
     "execution_count": 24,
     "metadata": {},
     "output_type": "execute_result"
    }
   ],
   "source": [
    "# one way\n",
    "names = lambda x: x['name']\n",
    "list(map(names, students))"
   ]
  },
  {
   "cell_type": "code",
   "execution_count": 36,
   "id": "0b66ab1d",
   "metadata": {},
   "outputs": [
    {
     "data": {
      "text/plain": [
       "['Jacob Martin', 'Angela Stevens', 'Ricky Smart']"
      ]
     },
     "execution_count": 36,
     "metadata": {},
     "output_type": "execute_result"
    }
   ],
   "source": [
    "# another way\n",
    "list(map(lambda student: student['name'], students))"
   ]
  }
 ],
 "metadata": {
  "kernelspec": {
   "display_name": "Python 3 (ipykernel)",
   "language": "python",
   "name": "python3"
  },
  "language_info": {
   "codemirror_mode": {
    "name": "ipython",
    "version": 3
   },
   "file_extension": ".py",
   "mimetype": "text/x-python",
   "name": "python",
   "nbconvert_exporter": "python",
   "pygments_lexer": "ipython3",
   "version": "3.10.12"
  }
 },
 "nbformat": 4,
 "nbformat_minor": 5
}
