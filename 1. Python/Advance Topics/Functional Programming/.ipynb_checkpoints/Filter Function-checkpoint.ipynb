{
 "cells": [
  {
   "cell_type": "code",
   "execution_count": 3,
   "id": "af5191f8",
   "metadata": {},
   "outputs": [
    {
     "name": "stdout",
     "output_type": "stream",
     "text": [
      "One Way: [5, 6, 7]\n",
      "Another Way: [5, 6, 7]\n"
     ]
    }
   ],
   "source": [
    "# write a program to only print numbers > 4\n",
    "nums = [1, 2, 3, 4, 5, 6, 7]\n",
    "# one way\n",
    "print('One Way:', list(filter(lambda x: x>4, nums)))\n",
    "\n",
    "# another way\n",
    "greater_than_4 = lambda x: x>4\n",
    "print('Another Way:', list(filter(greater_than_4, nums)))"
   ]
  },
  {
   "cell_type": "code",
   "execution_count": 12,
   "id": "fd3b3510",
   "metadata": {},
   "outputs": [
    {
     "data": {
      "text/plain": [
       "['Apple', 'Grapes', 'Orange']"
      ]
     },
     "execution_count": 12,
     "metadata": {},
     "output_type": "execute_result"
    }
   ],
   "source": [
    "# write a program using filter() to print friuts which have 'e' in their names\n",
    "fruits = ['Apple', 'Banana', 'Grapes', 'Mango', 'Orange']\n",
    "\n",
    "list(filter(lambda x: 'e' in x, fruits))"
   ]
  },
  {
   "cell_type": "code",
   "execution_count": 18,
   "id": "c44194b0",
   "metadata": {},
   "outputs": [
    {
     "data": {
      "text/plain": [
       "[1, 2, 3, 4, 5]"
      ]
     },
     "execution_count": 18,
     "metadata": {},
     "output_type": "execute_result"
    }
   ],
   "source": [
    "L = [1, 2, 3, 4, 5]\n",
    "\n",
    "list(filter(lambda x: x*2, L)) # filter function runs on a filtered condition, \n",
    "# thats why it did'nt doubled List items as map() did in next example."
   ]
  },
  {
   "cell_type": "code",
   "execution_count": 20,
   "id": "092225b7",
   "metadata": {},
   "outputs": [
    {
     "data": {
      "text/plain": [
       "[2, 4, 6, 8, 10]"
      ]
     },
     "execution_count": 20,
     "metadata": {},
     "output_type": "execute_result"
    }
   ],
   "source": [
    "list(map(lambda x: x*2, L)) # map() don't need any filtered condition to run, \n",
    "# it ran on every list items"
   ]
  },
  {
   "cell_type": "code",
   "execution_count": null,
   "id": "b662a5fe",
   "metadata": {},
   "outputs": [],
   "source": []
  }
 ],
 "metadata": {
  "kernelspec": {
   "display_name": "Python 3 (ipykernel)",
   "language": "python",
   "name": "python3"
  },
  "language_info": {
   "codemirror_mode": {
    "name": "ipython",
    "version": 3
   },
   "file_extension": ".py",
   "mimetype": "text/x-python",
   "name": "python",
   "nbconvert_exporter": "python",
   "pygments_lexer": "ipython3",
   "version": "3.10.12"
  }
 },
 "nbformat": 4,
 "nbformat_minor": 5
}
