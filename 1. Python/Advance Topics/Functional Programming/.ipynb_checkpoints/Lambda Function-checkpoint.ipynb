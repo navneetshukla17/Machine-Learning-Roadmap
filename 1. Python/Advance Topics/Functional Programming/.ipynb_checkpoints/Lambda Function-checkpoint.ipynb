{
 "cells": [
  {
   "cell_type": "markdown",
   "id": "d702a784",
   "metadata": {},
   "source": [
    "### #Lambda functions:"
   ]
  },
  {
   "cell_type": "markdown",
   "id": "ab2aeaba",
   "metadata": {},
   "source": [
    "### #Example-1:"
   ]
  },
  {
   "cell_type": "code",
   "execution_count": 9,
   "id": "8657fa95",
   "metadata": {},
   "outputs": [
    {
     "name": "stdout",
     "output_type": "stream",
     "text": [
      "16\n"
     ]
    }
   ],
   "source": [
    "sqaure = lambda x: x**2\n",
    "\n",
    "# calling lambda func()\n",
    "print(square(4))"
   ]
  },
  {
   "cell_type": "markdown",
   "id": "88679fb1",
   "metadata": {},
   "source": [
    "### #Example-2:"
   ]
  },
  {
   "cell_type": "code",
   "execution_count": 15,
   "id": "753a1b8c",
   "metadata": {},
   "outputs": [
    {
     "name": "stdout",
     "output_type": "stream",
     "text": [
      "9\n"
     ]
    }
   ],
   "source": [
    "total = lambda x, y: x+y\n",
    "\n",
    "# calling lambda func()\n",
    "print(total(4, 5))"
   ]
  },
  {
   "cell_type": "markdown",
   "id": "382e9445",
   "metadata": {},
   "source": [
    "#### #Lambda function to check if the first letter of a given string is 'a' or not."
   ]
  },
  {
   "cell_type": "code",
   "execution_count": 22,
   "id": "91d53bf0",
   "metadata": {},
   "outputs": [
    {
     "name": "stdout",
     "output_type": "stream",
     "text": [
      "True\n",
      "False\n"
     ]
    }
   ],
   "source": [
    "check = lambda s: s[0] == 'a'\n",
    "print(check('apple'))\n",
    "print(check('grapes'))"
   ]
  },
  {
   "cell_type": "code",
   "execution_count": 24,
   "id": "5f3f1d68",
   "metadata": {},
   "outputs": [
    {
     "name": "stdout",
     "output_type": "stream",
     "text": [
      "Even\n",
      "Odd\n"
     ]
    }
   ],
   "source": [
    "even_or_odd = lambda n: 'Even' if n%2 == 0 else 'Odd'\n",
    "print(even_or_odd(10))\n",
    "print(even_or_odd(3))"
   ]
  },
  {
   "cell_type": "markdown",
   "id": "f867ddd5",
   "metadata": {},
   "source": [
    "### #Higher Order Functions: HOF\n",
    "\n",
    "- Before starting HOF let's first create a function which accepts a    list on numbers and give us three output.\n",
    "\n",
    "    1. return sum of even numbers\n",
    "    2. return sum of odd numbers\n",
    "    3. return if the number is divisible by 3."
   ]
  },
  {
   "cell_type": "code",
   "execution_count": 7,
   "id": "4889e67a",
   "metadata": {},
   "outputs": [
    {
     "data": {
      "text/plain": [
       "(176, 129, 144)"
      ]
     },
     "execution_count": 7,
     "metadata": {},
     "output_type": "execute_result"
    }
   ],
   "source": [
    "def super_func(l):\n",
    "    '''\n",
    "    This function accepts an iterable and displays even, odd and number divisible by 3\n",
    "    Input: Iterable\n",
    "    Ouput: even, odd, number divisible by 3\n",
    "    Created by: Tushar\n",
    "    Last edited: 29-April-2024\n",
    "    '''\n",
    "    even_no = 0\n",
    "    odd_no = 0\n",
    "    no_div_by_3 = 0\n",
    "    \n",
    "    for i in l:\n",
    "        if i%2 == 0:\n",
    "            even_no = even_no + i\n",
    "        if i%2 != 0:\n",
    "            odd_no = odd_no + i\n",
    "        if i%3 == 0:\n",
    "            no_div_by_3 = no_div_by_3 + i\n",
    "    \n",
    "    return (even_no, odd_no, no_div_by_3)\n",
    "\n",
    "l = [11, 14, 21, 23, 56, 78, 45, 29, 28]\n",
    "super_func(l)"
   ]
  },
  {
   "cell_type": "markdown",
   "id": "62a6242d",
   "metadata": {},
   "source": [
    "### #HOF example: This is an normal function let'smake this function an HOF."
   ]
  },
  {
   "cell_type": "code",
   "execution_count": 1,
   "id": "3732296b",
   "metadata": {},
   "outputs": [
    {
     "name": "stdout",
     "output_type": "stream",
     "text": [
      "176\n",
      "129\n",
      "144\n"
     ]
    }
   ],
   "source": [
    "def check_num(func, l):\n",
    "    '''\n",
    "    This function accepts a function and an iterable to displays even,odd\n",
    "    and number divisible by 3\n",
    "    Input: Iterable\n",
    "    Ouput: even, odd, number divisible by 3\n",
    "    Created by: Tushar\n",
    "    Last edited: 29-April-2024\n",
    "    '''\n",
    "    result = 0\n",
    "    \n",
    "    for i in l:\n",
    "        if func(i):\n",
    "            result = result + i\n",
    "    return result\n",
    "\n",
    "l = [11, 14, 21, 23, 56, 78, 45, 29, 28] \n",
    "\n",
    "is_even = lambda x: x%2 == 0\n",
    "'''\n",
    "An lambda function to check if the no. is even.\n",
    "'''\n",
    "is_odd = lambda x: x%2 != 0\n",
    "'''\n",
    "An lambda function to check if the no. is odd.\n",
    "'''\n",
    "is_no_div_by_3 = lambda x: x%3 == 0\n",
    "'''\n",
    "An lambda function to check if the no. is divisible by 3.\n",
    "'''\n",
    "\n",
    "print(check_num(is_even, l))\n",
    "print(check_num(is_odd, l))\n",
    "print(check_num(is_no_div_by_3, l))"
   ]
  },
  {
   "cell_type": "code",
   "execution_count": null,
   "id": "3473e44b",
   "metadata": {},
   "outputs": [],
   "source": []
  }
 ],
 "metadata": {
  "kernelspec": {
   "display_name": "Python 3 (ipykernel)",
   "language": "python",
   "name": "python3"
  },
  "language_info": {
   "codemirror_mode": {
    "name": "ipython",
    "version": 3
   },
   "file_extension": ".py",
   "mimetype": "text/x-python",
   "name": "python",
   "nbconvert_exporter": "python",
   "pygments_lexer": "ipython3",
   "version": "3.10.12"
  }
 },
 "nbformat": 4,
 "nbformat_minor": 5
}
