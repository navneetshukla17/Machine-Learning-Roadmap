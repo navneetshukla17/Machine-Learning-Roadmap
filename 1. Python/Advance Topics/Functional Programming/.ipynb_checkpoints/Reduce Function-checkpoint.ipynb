{
 "cells": [
  {
   "cell_type": "code",
   "execution_count": 9,
   "id": "5c755751",
   "metadata": {},
   "outputs": [
    {
     "data": {
      "text/plain": [
       "33"
      ]
     },
     "execution_count": 9,
     "metadata": {},
     "output_type": "execute_result"
    }
   ],
   "source": [
    "# write a function to sum up the list items using reduce()\n",
    "from functools import reduce\n",
    "\n",
    "# one way\n",
    "L = [5, 7, 8, 13]\n",
    "reduce(lambda x, y: x+y, L)\n",
    "\n",
    "# another way\n",
    "add_nums = lambda x, y: x+y\n",
    "reduce(add_nums, L)"
   ]
  },
  {
   "cell_type": "code",
   "execution_count": 10,
   "id": "c9f17236",
   "metadata": {},
   "outputs": [
    {
     "data": {
      "text/plain": [
       "58"
      ]
     },
     "execution_count": 10,
     "metadata": {},
     "output_type": "execute_result"
    }
   ],
   "source": [
    "# write a function to print greatest number from the list using reduce\n",
    "L1 = [12, 34, 56, 11, 21, 58]\n",
    "reduce(lambda x, y: x if x>y else y, L1)"
   ]
  },
  {
   "cell_type": "code",
   "execution_count": 11,
   "id": "0ed7e250",
   "metadata": {},
   "outputs": [
    {
     "data": {
      "text/plain": [
       "11"
      ]
     },
     "execution_count": 11,
     "metadata": {},
     "output_type": "execute_result"
    }
   ],
   "source": [
    "# write a function to print smallest number from the list using reduce\n",
    "reduce(lambda x, y: x if x<y else y, L1)"
   ]
  },
  {
   "cell_type": "code",
   "execution_count": null,
   "id": "eee822f2",
   "metadata": {},
   "outputs": [],
   "source": []
  }
 ],
 "metadata": {
  "kernelspec": {
   "display_name": "Python 3 (ipykernel)",
   "language": "python",
   "name": "python3"
  },
  "language_info": {
   "codemirror_mode": {
    "name": "ipython",
    "version": 3
   },
   "file_extension": ".py",
   "mimetype": "text/x-python",
   "name": "python",
   "nbconvert_exporter": "python",
   "pygments_lexer": "ipython3",
   "version": "3.10.12"
  }
 },
 "nbformat": 4,
 "nbformat_minor": 5
}
