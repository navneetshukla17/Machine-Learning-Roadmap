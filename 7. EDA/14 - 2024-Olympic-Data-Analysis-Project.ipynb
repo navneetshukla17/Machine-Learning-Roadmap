{
 "cells": [
  {
   "cell_type": "code",
   "execution_count": 47,
   "id": "de362d2e",
   "metadata": {},
   "outputs": [],
   "source": [
    "import pandas as pd"
   ]
  },
  {
   "cell_type": "code",
   "execution_count": 69,
   "id": "59aff53d",
   "metadata": {},
   "outputs": [],
   "source": [
    "# datasets\n",
    "athletes = pd.read_csv('./olympic_2024/athletes.csv')\n",
    "medals = pd.read_csv('./olympic_2024/medals.csv')\n",
    "total_medals = pd.read_csv('./olympic_2024/medals_total.csv')\n",
    "events = pd.read_csv('./olympic_2024/events.csv')\n",
    "swimming = pd.read_csv('./olympic_2024/results/Swimming.csv')"
   ]
  },
  {
   "cell_type": "code",
   "execution_count": 70,
   "id": "18257f1b",
   "metadata": {},
   "outputs": [
    {
     "data": {
      "text/html": [
       "<div>\n",
       "<style scoped>\n",
       "    .dataframe tbody tr th:only-of-type {\n",
       "        vertical-align: middle;\n",
       "    }\n",
       "\n",
       "    .dataframe tbody tr th {\n",
       "        vertical-align: top;\n",
       "    }\n",
       "\n",
       "    .dataframe thead th {\n",
       "        text-align: right;\n",
       "    }\n",
       "</style>\n",
       "<table border=\"1\" class=\"dataframe\">\n",
       "  <thead>\n",
       "    <tr style=\"text-align: right;\">\n",
       "      <th></th>\n",
       "      <th>event</th>\n",
       "      <th>tag</th>\n",
       "      <th>sport</th>\n",
       "      <th>sport_code</th>\n",
       "      <th>sport_url</th>\n",
       "    </tr>\n",
       "  </thead>\n",
       "  <tbody>\n",
       "    <tr>\n",
       "      <th>0</th>\n",
       "      <td>Men's Individual</td>\n",
       "      <td>archery</td>\n",
       "      <td>Archery</td>\n",
       "      <td>ARC</td>\n",
       "      <td>https://olympics.com/en/paris-2024/sports/archery</td>\n",
       "    </tr>\n",
       "    <tr>\n",
       "      <th>1</th>\n",
       "      <td>Women's Individual</td>\n",
       "      <td>archery</td>\n",
       "      <td>Archery</td>\n",
       "      <td>ARC</td>\n",
       "      <td>https://olympics.com/en/paris-2024/sports/archery</td>\n",
       "    </tr>\n",
       "    <tr>\n",
       "      <th>2</th>\n",
       "      <td>Men's Team</td>\n",
       "      <td>archery</td>\n",
       "      <td>Archery</td>\n",
       "      <td>ARC</td>\n",
       "      <td>https://olympics.com/en/paris-2024/sports/archery</td>\n",
       "    </tr>\n",
       "    <tr>\n",
       "      <th>3</th>\n",
       "      <td>Women's Team</td>\n",
       "      <td>archery</td>\n",
       "      <td>Archery</td>\n",
       "      <td>ARC</td>\n",
       "      <td>https://olympics.com/en/paris-2024/sports/archery</td>\n",
       "    </tr>\n",
       "    <tr>\n",
       "      <th>4</th>\n",
       "      <td>Mixed Team</td>\n",
       "      <td>archery</td>\n",
       "      <td>Archery</td>\n",
       "      <td>ARC</td>\n",
       "      <td>https://olympics.com/en/paris-2024/sports/archery</td>\n",
       "    </tr>\n",
       "  </tbody>\n",
       "</table>\n",
       "</div>"
      ],
      "text/plain": [
       "                event      tag    sport sport_code  \\\n",
       "0    Men's Individual  archery  Archery        ARC   \n",
       "1  Women's Individual  archery  Archery        ARC   \n",
       "2          Men's Team  archery  Archery        ARC   \n",
       "3        Women's Team  archery  Archery        ARC   \n",
       "4          Mixed Team  archery  Archery        ARC   \n",
       "\n",
       "                                           sport_url  \n",
       "0  https://olympics.com/en/paris-2024/sports/archery  \n",
       "1  https://olympics.com/en/paris-2024/sports/archery  \n",
       "2  https://olympics.com/en/paris-2024/sports/archery  \n",
       "3  https://olympics.com/en/paris-2024/sports/archery  \n",
       "4  https://olympics.com/en/paris-2024/sports/archery  "
      ]
     },
     "execution_count": 70,
     "metadata": {},
     "output_type": "execute_result"
    }
   ],
   "source": [
    "events.head()"
   ]
  },
  {
   "cell_type": "code",
   "execution_count": 71,
   "id": "82be6433",
   "metadata": {},
   "outputs": [
    {
     "data": {
      "text/html": [
       "<div>\n",
       "<style scoped>\n",
       "    .dataframe tbody tr th:only-of-type {\n",
       "        vertical-align: middle;\n",
       "    }\n",
       "\n",
       "    .dataframe tbody tr th {\n",
       "        vertical-align: top;\n",
       "    }\n",
       "\n",
       "    .dataframe thead th {\n",
       "        text-align: right;\n",
       "    }\n",
       "</style>\n",
       "<table border=\"1\" class=\"dataframe\">\n",
       "  <thead>\n",
       "    <tr style=\"text-align: right;\">\n",
       "      <th></th>\n",
       "      <th>country_code</th>\n",
       "      <th>Gold Medal</th>\n",
       "      <th>Silver Medal</th>\n",
       "      <th>Bronze Medal</th>\n",
       "      <th>Total</th>\n",
       "    </tr>\n",
       "  </thead>\n",
       "  <tbody>\n",
       "    <tr>\n",
       "      <th>71</th>\n",
       "      <td>IND</td>\n",
       "      <td>0</td>\n",
       "      <td>1</td>\n",
       "      <td>5</td>\n",
       "      <td>6</td>\n",
       "    </tr>\n",
       "  </tbody>\n",
       "</table>\n",
       "</div>"
      ],
      "text/plain": [
       "   country_code  Gold Medal  Silver Medal  Bronze Medal  Total\n",
       "71          IND           0             1             5      6"
      ]
     },
     "execution_count": 71,
     "metadata": {},
     "output_type": "execute_result"
    }
   ],
   "source": [
    "total_medals[total_medals['country_code']=='IND']"
   ]
  },
  {
   "cell_type": "code",
   "execution_count": 74,
   "id": "af42e09a",
   "metadata": {},
   "outputs": [
    {
     "data": {
      "text/plain": [
       "participant_type\n",
       "Person    1485\n",
       "Team       169\n",
       "Name: count, dtype: int64"
      ]
     },
     "execution_count": 74,
     "metadata": {},
     "output_type": "execute_result"
    }
   ],
   "source": [
    "swimming['participant_type'].value_counts()"
   ]
  },
  {
   "cell_type": "code",
   "execution_count": null,
   "id": "78953c09",
   "metadata": {},
   "outputs": [],
   "source": []
  },
  {
   "cell_type": "code",
   "execution_count": null,
   "id": "a7767441",
   "metadata": {},
   "outputs": [],
   "source": []
  }
 ],
 "metadata": {
  "kernelspec": {
   "display_name": "Python 3 (ipykernel)",
   "language": "python",
   "name": "python3"
  },
  "language_info": {
   "codemirror_mode": {
    "name": "ipython",
    "version": 3
   },
   "file_extension": ".py",
   "mimetype": "text/x-python",
   "name": "python",
   "nbconvert_exporter": "python",
   "pygments_lexer": "ipython3",
   "version": "3.10.9"
  }
 },
 "nbformat": 4,
 "nbformat_minor": 5
}
