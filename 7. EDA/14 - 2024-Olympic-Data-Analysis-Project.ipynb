{
 "cells": [
  {
   "cell_type": "code",
   "execution_count": 1,
   "id": "de362d2e",
   "metadata": {},
   "outputs": [],
   "source": [
    "import pandas as pd"
   ]
  },
  {
   "cell_type": "code",
   "execution_count": 9,
   "id": "59aff53d",
   "metadata": {},
   "outputs": [],
   "source": [
    "# datasets\n",
    "athletes = pd.read_csv('./olympic_2024/athletes.csv')\n",
    "venues = pd.read_csv('./olympic_2024/venues.csv')"
   ]
  },
  {
   "cell_type": "code",
   "execution_count": 10,
   "id": "be4fc533",
   "metadata": {},
   "outputs": [
    {
     "data": {
      "text/plain": [
       "(11110, 35)"
      ]
     },
     "execution_count": 10,
     "metadata": {},
     "output_type": "execute_result"
    }
   ],
   "source": [
    "athletes.shape"
   ]
  },
  {
   "cell_type": "code",
   "execution_count": 11,
   "id": "734338c6",
   "metadata": {},
   "outputs": [
    {
     "data": {
      "text/plain": [
       "(35, 6)"
      ]
     },
     "execution_count": 11,
     "metadata": {},
     "output_type": "execute_result"
    }
   ],
   "source": [
    "venues.shape"
   ]
  },
  {
   "cell_type": "code",
   "execution_count": null,
   "id": "df24cfea",
   "metadata": {},
   "outputs": [],
   "source": []
  }
 ],
 "metadata": {
  "kernelspec": {
   "display_name": "Python 3 (ipykernel)",
   "language": "python",
   "name": "python3"
  },
  "language_info": {
   "codemirror_mode": {
    "name": "ipython",
    "version": 3
   },
   "file_extension": ".py",
   "mimetype": "text/x-python",
   "name": "python",
   "nbconvert_exporter": "python",
   "pygments_lexer": "ipython3",
   "version": "3.10.9"
  }
 },
 "nbformat": 4,
 "nbformat_minor": 5
}
