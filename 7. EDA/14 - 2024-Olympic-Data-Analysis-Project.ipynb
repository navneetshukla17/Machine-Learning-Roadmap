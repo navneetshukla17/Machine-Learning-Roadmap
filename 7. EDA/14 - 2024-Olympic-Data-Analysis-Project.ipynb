{
 "cells": [
  {
   "cell_type": "code",
   "execution_count": 1,
   "id": "de362d2e",
   "metadata": {},
   "outputs": [],
   "source": [
    "import pandas as pd"
   ]
  },
  {
   "cell_type": "code",
   "execution_count": 2,
   "id": "59aff53d",
   "metadata": {},
   "outputs": [],
   "source": [
    "# datasets\n",
    "athletes = pd.read_csv('./olympic_2024/athletes.csv')\n",
    "venues = pd.read_csv('./olympic_2024/venues.csv')"
   ]
  },
  {
   "cell_type": "code",
   "execution_count": 3,
   "id": "be4fc533",
   "metadata": {},
   "outputs": [
    {
     "data": {
      "text/plain": [
       "(11110, 35)"
      ]
     },
     "execution_count": 3,
     "metadata": {},
     "output_type": "execute_result"
    }
   ],
   "source": [
    "athletes.shape"
   ]
  },
  {
   "cell_type": "code",
   "execution_count": 4,
   "id": "734338c6",
   "metadata": {},
   "outputs": [
    {
     "data": {
      "text/plain": [
       "(35, 6)"
      ]
     },
     "execution_count": 4,
     "metadata": {},
     "output_type": "execute_result"
    }
   ],
   "source": [
    "venues.shape"
   ]
  },
  {
   "cell_type": "code",
   "execution_count": 5,
   "id": "df24cfea",
   "metadata": {},
   "outputs": [
    {
     "name": "stdout",
     "output_type": "stream",
     "text": [
      "Traceback (most recent call last):\r\n",
      "  File \"/home/tusharshukla/.local/bin/jt\", line 5, in <module>\r\n",
      "    from jupyterthemes import main\r\n",
      "ModuleNotFoundError: No module named 'jupyterthemes'\r\n"
     ]
    }
   ],
   "source": [
    "!jt -t"
   ]
  },
  {
   "cell_type": "code",
   "execution_count": null,
   "id": "e222daf5",
   "metadata": {},
   "outputs": [],
   "source": []
  }
 ],
 "metadata": {
  "kernelspec": {
   "display_name": "Python 3 (ipykernel)",
   "language": "python",
   "name": "python3"
  },
  "language_info": {
   "codemirror_mode": {
    "name": "ipython",
    "version": 3
   },
   "file_extension": ".py",
   "mimetype": "text/x-python",
   "name": "python",
   "nbconvert_exporter": "python",
   "pygments_lexer": "ipython3",
   "version": "3.10.9"
  }
 },
 "nbformat": 4,
 "nbformat_minor": 5
}
