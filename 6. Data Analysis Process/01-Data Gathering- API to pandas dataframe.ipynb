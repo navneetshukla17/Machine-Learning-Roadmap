{
 "cells": [
  {
   "cell_type": "code",
   "execution_count": 2,
   "id": "71d56b0f",
   "metadata": {},
   "outputs": [],
   "source": [
    "import requests # to hit the url and bring the JSON data\n",
    "import pandas as pd"
   ]
  },
  {
   "cell_type": "code",
   "execution_count": 3,
   "id": "95e1ec7b",
   "metadata": {},
   "outputs": [],
   "source": [
    "response = requests.get('https://api.themoviedb.org/3/movie/popular?api_key=10428dbebec42b22a33bc264125d6963&language=en-US&page=1').json()"
   ]
  },
  {
   "cell_type": "code",
   "execution_count": 4,
   "id": "002608b4",
   "metadata": {},
   "outputs": [],
   "source": [
    "# popularity = []\n",
    "# vote_count = []\n",
    "# original_language = []\n",
    "# title = []\n",
    "# vote_average = []\n",
    "# overview = []\n",
    "# release_date = []"
   ]
  },
  {
   "cell_type": "code",
   "execution_count": 5,
   "id": "26756abf",
   "metadata": {},
   "outputs": [],
   "source": [
    "# # single page response\n",
    "# for i in response['results']:\n",
    "    \n",
    "#     popularity.append(i['popularity'])\n",
    "#     vote_count.append(i['vote_count'])\n",
    "#     original_language.append(i['original_language'])\n",
    "#     title.append(i['title'])\n",
    "#     vote_average.append(i['vote_average'])\n",
    "#     overview.append(i['overview'])\n",
    "#     release_date.append(i['release_date'])\n",
    "    \n",
    "# d = {'title': title, 'overview': overview, 'original_language': original_language, \n",
    "#      'release_date': release_date, 'popularity': popularity, 'vote_count': vote_count,\n",
    "#      'vote_average': vote_average}\n",
    "\n",
    "# df = pd.DataFrame(d)\n",
    "# df"
   ]
  },
  {
   "cell_type": "code",
   "execution_count": null,
   "id": "6d3c2b3f",
   "metadata": {},
   "outputs": [],
   "source": [
    "final = pd.DataFrame()\n",
    "for j in range(1, 501): # page starts at 1 and end at 500 (1[included], 501[excluded])\n",
    "    \n",
    "    response = requests.get('https://api.themoviedb.org/3/movie/popular?api_key=10428dbebec42b22a33bc264125d6963&language=en-US&page={}'.format(j)).json()\n",
    "    \n",
    "    popularity = []\n",
    "    vote_count = []\n",
    "    original_language = []\n",
    "    title = []\n",
    "    vote_average = []\n",
    "    overview = []\n",
    "    release_date = []\n",
    "    \n",
    "    for i in response['results']:\n",
    "    \n",
    "        popularity.append(i['popularity'])\n",
    "        vote_count.append(i['vote_count'])\n",
    "        original_language.append(i['original_language'])\n",
    "        title.append(i['title'])\n",
    "        vote_average.append(i['vote_average'])\n",
    "        overview.append(i['overview'])\n",
    "        release_date.append(i['release_date'])\n",
    "    \n",
    "    d = {'title': title, 'overview': overview, 'original_language': original_language, \n",
    "         'release_date': release_date, 'popularity': popularity, 'vote_count': vote_count,\n",
    "         'vote_average': vote_average}\n",
    "    \n",
    "    df = pd.DataFrame(d)"
   ]
  },
  {
   "cell_type": "code",
   "execution_count": null,
   "id": "cdef7a35",
   "metadata": {},
   "outputs": [],
   "source": []
  },
  {
   "cell_type": "code",
   "execution_count": null,
   "id": "24d3bf35",
   "metadata": {},
   "outputs": [],
   "source": []
  }
 ],
 "metadata": {
  "kernelspec": {
   "display_name": "Python 3 (ipykernel)",
   "language": "python",
   "name": "python3"
  },
  "language_info": {
   "codemirror_mode": {
    "name": "ipython",
    "version": 3
   },
   "file_extension": ".py",
   "mimetype": "text/x-python",
   "name": "python",
   "nbconvert_exporter": "python",
   "pygments_lexer": "ipython3",
   "version": "3.12.3"
  }
 },
 "nbformat": 4,
 "nbformat_minor": 5
}
