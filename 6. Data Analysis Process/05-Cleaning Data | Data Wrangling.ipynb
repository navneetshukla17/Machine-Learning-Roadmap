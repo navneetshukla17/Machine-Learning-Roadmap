{
 "cells": [
  {
   "cell_type": "code",
   "execution_count": null,
   "id": "779926b1",
   "metadata": {},
   "outputs": [],
   "source": [
    "# neccessary imports\n",
    "import numpy as np\n",
    "import pandas as pd"
   ]
  },
  {
   "cell_type": "code",
   "execution_count": null,
   "id": "52c56037",
   "metadata": {},
   "outputs": [],
   "source": [
    "# import dataset\n",
    "patients = pd.read_csv('patients.csv')\n",
    "treatments = pd.read_csv('treatments.csv')\n",
    "adverse_reactions = pd.read_csv('adverse_reactions.csv')"
   ]
  },
  {
   "cell_type": "markdown",
   "id": "18c47ae9",
   "metadata": {},
   "source": [
    "### Always make sure to create a copy of original dataset before starting the cleaning process..."
   ]
  },
  {
   "cell_type": "code",
   "execution_count": null,
   "id": "e129bd07",
   "metadata": {},
   "outputs": [],
   "source": [
    "patients_copy = patients.copy()\n",
    "treatments_copy = treatments.copy()\n",
    "adverse_reactions_copy = adverse_reactions.copy()"
   ]
  },
  {
   "cell_type": "code",
   "execution_count": null,
   "id": "5823c6f3",
   "metadata": {},
   "outputs": [],
   "source": [
    "missing_patients = patients_copy[patients_copy['address'].isnull()]"
   ]
  },
  {
   "cell_type": "markdown",
   "id": "44223119",
   "metadata": {},
   "source": [
    "## a. Completeness Issues\n",
    "- [address, city, state, zip code, contact] all these columns has missing values (leave it !)\n",
    "- Only 280 rows are there, instead of 350 (70 rows are missing)\n",
    "- hba1c_change column has missing values"
   ]
  },
  {
   "cell_type": "markdown",
   "id": "7b6c30c2",
   "metadata": {},
   "source": [
    "### Define"
   ]
  },
  {
   "cell_type": "markdown",
   "id": "9df76a74",
   "metadata": {},
   "source": [
    "- Substract hba1c_start from hba1c_end to get hba1c_change"
   ]
  },
  {
   "cell_type": "markdown",
   "id": "38d9e319",
   "metadata": {},
   "source": [
    "### Code"
   ]
  },
  {
   "cell_type": "code",
   "execution_count": null,
   "id": "ef5938ad",
   "metadata": {},
   "outputs": [],
   "source": [
    "treatments_copy['hba1c_change'] = treatments_copy['hba1c_start'] - treatments_copy['hba1c_end']"
   ]
  },
  {
   "cell_type": "markdown",
   "id": "3d3fe258",
   "metadata": {},
   "source": [
    "### Test"
   ]
  },
  {
   "cell_type": "code",
   "execution_count": null,
   "id": "d5f166ae",
   "metadata": {},
   "outputs": [],
   "source": [
    "treatments_copy.info()\n",
    "treatments_copy.describe()"
   ]
  },
  {
   "cell_type": "markdown",
   "id": "d0fde842",
   "metadata": {},
   "source": [
    "## b. Tidiness Issue / Structural Issue\n",
    "- Phone and email are in same column i.e. [contact] column\n",
    "- 3 set of information stored in 2 variables i.e.[auralin, novodra] (Need to create 3 seperate variables\n",
    "    `higher_does`, `lower_does`, `treatment_type`)\n",
    "- No point to create a seperate table to display a single information (Will merge the [adverse_reaction] column with treatments table)"
   ]
  },
  {
   "cell_type": "code",
   "execution_count": null,
   "id": "8876bfdf",
   "metadata": {},
   "outputs": [],
   "source": [
    "treatments_copy"
   ]
  },
  {
   "cell_type": "markdown",
   "id": "b5a76a8a",
   "metadata": {},
   "source": [
    "### Define"
   ]
  },
  {
   "cell_type": "markdown",
   "id": "29efbfc4",
   "metadata": {},
   "source": [
    "- 3 set of information stored in 2 variables i.e.[auralin, novodra] (Need to create 3 seperate variables\n",
    "    `higher_does`, `lower_does`, `treatment_type`)"
   ]
  },
  {
   "cell_type": "markdown",
   "id": "2f0d2f26",
   "metadata": {},
   "source": [
    "### Code"
   ]
  },
  {
   "cell_type": "code",
   "execution_count": null,
   "id": "4a0bf9d3",
   "metadata": {},
   "outputs": [],
   "source": [
    "treatments_copy = pd.melt(treatments_copy, id_vars=['given_name', 'surname', 'hba1c_start', 'hba1c_end', 'hba1c_change'],\n",
    "       var_name='treatment', value_name='dose')"
   ]
  },
  {
   "cell_type": "code",
   "execution_count": null,
   "id": "442ef104",
   "metadata": {},
   "outputs": [],
   "source": [
    "treatments_copy = treatments_copy[treatments_copy['dose'] != '-']"
   ]
  },
  {
   "cell_type": "code",
   "execution_count": null,
   "id": "12e2d8c9",
   "metadata": {},
   "outputs": [],
   "source": [
    "treatments_copy['start'], treatments_copy['end'] = treatments_copy['dose'].str.split('-', expand=True)"
   ]
  },
  {
   "cell_type": "code",
   "execution_count": null,
   "id": "742f488a",
   "metadata": {},
   "outputs": [],
   "source": [
    "treatments_copy.drop(columns={'dose'}, inplace=True)"
   ]
  },
  {
   "cell_type": "markdown",
   "id": "57ff2973",
   "metadata": {},
   "source": [
    "### Test"
   ]
  },
  {
   "cell_type": "code",
   "execution_count": null,
   "id": "e13d96d1",
   "metadata": {},
   "outputs": [],
   "source": [
    "treatments_copy.head()"
   ]
  },
  {
   "cell_type": "code",
   "execution_count": null,
   "id": "85795a63",
   "metadata": {},
   "outputs": [],
   "source": [
    "treatments_copy.sample(5)"
   ]
  },
  {
   "cell_type": "code",
   "execution_count": null,
   "id": "e8ede826",
   "metadata": {},
   "outputs": [],
   "source": []
  },
  {
   "cell_type": "code",
   "execution_count": null,
   "id": "dfde0ed5",
   "metadata": {},
   "outputs": [],
   "source": []
  },
  {
   "cell_type": "code",
   "execution_count": null,
   "id": "4db973dc",
   "metadata": {},
   "outputs": [],
   "source": []
  },
  {
   "cell_type": "code",
   "execution_count": null,
   "id": "1448ac2c",
   "metadata": {},
   "outputs": [],
   "source": []
  }
 ],
 "metadata": {
  "kernelspec": {
   "display_name": "Python 3 (ipykernel)",
   "language": "python",
   "name": "python3"
  },
  "language_info": {
   "codemirror_mode": {
    "name": "ipython",
    "version": 3
   },
   "file_extension": ".py",
   "mimetype": "text/x-python",
   "name": "python",
   "nbconvert_exporter": "python",
   "pygments_lexer": "ipython3",
   "version": "3.12.3"
  }
 },
 "nbformat": 4,
 "nbformat_minor": 5
}
