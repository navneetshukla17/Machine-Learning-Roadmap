{
 "cells": [
  {
   "cell_type": "code",
   "execution_count": 2,
   "id": "a32d16b2",
   "metadata": {},
   "outputs": [],
   "source": [
    "import mysql.connector"
   ]
  },
  {
   "cell_type": "code",
   "execution_count": 4,
   "id": "dcdf53dd",
   "metadata": {},
   "outputs": [],
   "source": [
    "# mydb = mysql.connector.connect(\n",
    "#     host='campusxdb-instance.c98zqacq3vgm.us-east-2.rds.amazonaws.com',\n",
    "#     user='root',\n",
    "#     passwd='12345678',\n",
    "#     database='demodb'\n",
    "# )"
   ]
  },
  {
   "cell_type": "markdown",
   "id": "88967e75",
   "metadata": {},
   "source": [
    " ### I was not able to follow along this video, because I don't had a database"
   ]
  }
 ],
 "metadata": {
  "kernelspec": {
   "display_name": "Python 3 (ipykernel)",
   "language": "python",
   "name": "python3"
  },
  "language_info": {
   "codemirror_mode": {
    "name": "ipython",
    "version": 3
   },
   "file_extension": ".py",
   "mimetype": "text/x-python",
   "name": "python",
   "nbconvert_exporter": "python",
   "pygments_lexer": "ipython3",
   "version": "3.12.3"
  }
 },
 "nbformat": 4,
 "nbformat_minor": 5
}
